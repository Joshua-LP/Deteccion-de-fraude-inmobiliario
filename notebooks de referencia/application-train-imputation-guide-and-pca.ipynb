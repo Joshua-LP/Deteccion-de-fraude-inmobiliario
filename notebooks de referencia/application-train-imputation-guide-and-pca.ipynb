{
 "cells": [
  {
   "cell_type": "markdown",
   "metadata": {
    "_uuid": "2beb3e2e5fb5d85ac66d47efdd45ef44fa15ad3d"
   },
   "source": [
    "## Brief Introduction\n",
    "____\n",
    "The key objective of this notebook is to provide a simple guide to impute most variables in application_train dataset. After this process, I also used PCA to deal with only a few variables. Turns out that only four principal components are necessary to explain almost 100% of the data's variance. This notebook is intended to help kagglers use other algorithms that can't deal well with missing values. I tried to make the imputation as intuitive and correct as possible, but if someone disagree with the values I chose and/or  have a better value to impute, please feel free to comment and help me improve this notebook!"
   ]
  },
  {
   "cell_type": "code",
   "execution_count": 1,
   "metadata": {
    "_cell_guid": "b1076dfc-b9ad-4769-8c92-a6c4dae69d19",
    "_kg_hide-input": false,
    "_uuid": "8f2839f25d086af736a60e9eeb907d3b93b6e0e5",
    "collapsed": true,
    "trusted": true
   },
   "outputs": [],
   "source": [
    "import matplotlib.pyplot as plt\n",
    "import matplotlib.gridspec as gridspec\n",
    "import matplotlib.ticker as ticker\n",
    "import seaborn as sns\n",
    "import pandas as pd\n",
    "import numpy as np\n",
    "\n",
    "app_train = pd.read_csv('../input/application_train.csv')\n",
    "# application_test= pd.read_csv('../input/application_test.csv')\n",
    "# bureau = pd.read_csv('../input/bureau.csv')\n",
    "# bureau_balance = pd.read_csv('../input/bureau_balance.csv')\n",
    "# POS_CASH_balance = pd.read_csv('../input/POS_CASH_balance.csv')\n",
    "# credit_card_balance = pd.read_csv('../input/credit_card_balance.csv')\n",
    "# previous_application = pd.read_csv('../input/previous_application.csv')\n",
    "# installments_payments = pd.read_csv('../input/installments_payments.csv')"
   ]
  },
  {
   "cell_type": "markdown",
   "metadata": {
    "_uuid": "dc4fdb7e1343efd2d4284f66c1334fa04149d4bc"
   },
   "source": [
    "## Dealing with missing values"
   ]
  },
  {
   "cell_type": "code",
   "execution_count": 2,
   "metadata": {
    "_uuid": "ac06fe7da338e82402ad08172dc11208b7040429",
    "trusted": true
   },
   "outputs": [],
   "source": [
    "null_values_apptr = app_train.isnull().sum()\n",
    "null_values_apptr = null_values_apptr[null_values_apptr != 0].sort_values(ascending = False).reset_index() #only show rows with null values\n",
    "null_values_apptr.columns = [\"variable\", \"n_missing\"]\n",
    "null_values_apptr.head()"
   ]
  },
  {
   "cell_type": "markdown",
   "metadata": {
    "_uuid": "a255655afc4547ee37c8b1fc32655cf139de3bc1"
   },
   "source": [
    "There are several variables with \"MODE\", \"AVG\" or \"MEDI\" on it. In most cases, the number of missing values is exactly for all statistics belonging to a given feature. For instance, all variables with name \"COMMONAREA\" share the same number of null values. I think it is fairly safe to assume that those missing values actually represent the lack of that characteristic, so all clients with COMMONAREA features equal to zero probably don't live in a place that has a common area. Therefore I'll assign each and everyone of them the value of zero. "
   ]
  },
  {
   "cell_type": "code",
   "execution_count": 3,
   "metadata": {
    "_uuid": "414937677d615d32b16a9ae60da80b57a757ad87",
    "collapsed": true,
    "scrolled": false,
    "trusted": true
   },
   "outputs": [],
   "source": [
    "for variable in null_values_apptr[\"variable\"]:\n",
    "    if (variable.endswith(\"MEDI\")|variable.endswith(\"MODE\")|variable.endswith(\"AVG\")):\n",
    "        app_train.loc[:,variable] = app_train.loc[:,variable].fillna(0)"
   ]
  },
  {
   "cell_type": "markdown",
   "metadata": {
    "_uuid": "15753b7a49141271ccdd0d52f9be9154770d919b"
   },
   "source": [
    "I'll do the same for all variables related to Credit Bureau. As they are \"Number of enquiries to Credit Bureau about the client \\*some predefined period of time\\*  before application\", I assume that null quantities related to those variables are actually 0, meaning that no enquiries were made for that client."
   ]
  },
  {
   "cell_type": "code",
   "execution_count": 4,
   "metadata": {
    "_uuid": "f7d4161d7788f21c043fc24755fbbc474fa08672",
    "collapsed": true,
    "scrolled": true,
    "trusted": true
   },
   "outputs": [],
   "source": [
    "for variable in null_values_apptr[\"variable\"]:\n",
    "    if (variable.startswith(\"AMT_REQ_CREDIT_BUREAU\")):\n",
    "        app_train.loc[:,variable] = app_train.loc[:,variable].fillna(0)"
   ]
  },
  {
   "cell_type": "markdown",
   "metadata": {
    "_uuid": "58e490d0ea9a90819cbacbb23bcdae67f671a250"
   },
   "source": [
    "The \"Social Circle\" variables are a kind of mystery to me, but as they are a \"number of observations\" according to the columns dictionary, I feel that 0 is an appropriate value to impute as well, because no observations of client's social circle were made."
   ]
  },
  {
   "cell_type": "code",
   "execution_count": 5,
   "metadata": {
    "_uuid": "31965205c49e8ef9b345bc42b02df665ae7c431a",
    "collapsed": true,
    "trusted": true
   },
   "outputs": [],
   "source": [
    "for variable in null_values_apptr[\"variable\"]:\n",
    "    if (variable.endswith(\"SOCIAL_CIRCLE\")):\n",
    "        app_train.loc[:,variable] = app_train.loc[:,variable].fillna(0)"
   ]
  },
  {
   "cell_type": "markdown",
   "metadata": {
    "_uuid": "1b14ed65bb049ad7d793a48f9e04430b9cb7ec67"
   },
   "source": [
    "Let's check for the remaining variables with missing values"
   ]
  },
  {
   "cell_type": "code",
   "execution_count": 6,
   "metadata": {
    "_uuid": "7ee44b87200415edece19bdfb449ebf10d8df390",
    "scrolled": true,
    "trusted": true
   },
   "outputs": [],
   "source": [
    "#checking for remaining nulls:\n",
    "null_values_apptr = app_train.isnull().sum()\n",
    "null_values_apptr = null_values_apptr[null_values_apptr != 0].sort_values(ascending = False).reset_index() #only show rows with null values\n",
    "null_values_apptr.columns = [\"variable\", \"n_missing\"]\n",
    "#percentage of missing values on a given column\n",
    "null_values_apptr[\"pct_missing\"] = null_values_apptr.n_missing/len(app_train)\n",
    "null_values_apptr"
   ]
  },
  {
   "cell_type": "markdown",
   "metadata": {
    "_uuid": "4f680ef4ea30e8df3c3cd40d48debdfc8e25a32b"
   },
   "source": [
    "There is a lot less variables we have to check one by one. \n",
    "## OWN_CAR_AGE\n",
    "___"
   ]
  },
  {
   "cell_type": "code",
   "execution_count": 7,
   "metadata": {
    "_uuid": "5ba8b93ba9b3f541b0e5a82c9a34e7835f0a6275",
    "collapsed": true,
    "trusted": true
   },
   "outputs": [],
   "source": [
    "sns.kdeplot(app_train.OWN_CAR_AGE);"
   ]
  },
  {
   "cell_type": "markdown",
   "metadata": {
    "_uuid": "1abfcd85f2ef20285772beba72c14e7d3f499d34"
   },
   "source": [
    "This variable is a bit tricky. Here there are two things that I can think about that null values may represent:\n",
    "- null values mean that the client doesn't own a car\n",
    "- null values mean that it is just missing information\n",
    "- a mix of the two\n",
    "\n",
    "I'll assume the first option, as 65% of missing data doesn't seem to indicate a failure in collecting the data. Maybe a small percentage of those NaN are really missing information, but I'll assume it will be a really small percentage. For customers without a car, there doesn't seem to be a reasonable and logical value to impute the car's age. To solve this, let's create a variable \"own_car\" and assign 1 to anyone who has a car and 0 otherwise."
   ]
  },
  {
   "cell_type": "code",
   "execution_count": 7,
   "metadata": {
    "_uuid": "7ff6f367aa16a6623ec71b7da559d084a8110c2f",
    "collapsed": true,
    "trusted": true
   },
   "outputs": [],
   "source": [
    "app_train[\"OWN_CAR\"] = 0\n",
    "app_train.loc[app_train.OWN_CAR_AGE >= 0, \"OWN_CAR\"] = 1\n",
    "app_train.loc[:,(\"OWN_CAR\", \"OWN_CAR_AGE\")].head()\n",
    "\n",
    "#dropping car age column\n",
    "app_train = app_train.drop(columns=[\"OWN_CAR_AGE\"])"
   ]
  },
  {
   "cell_type": "markdown",
   "metadata": {
    "_uuid": "e11ae70e32b7261b51cd67fb8f41b5f2715817ae"
   },
   "source": [
    "### EXT SCORE variables\n",
    "___\n",
    "These variables are \"normalized scores from external data sources\".  So although the clients with missing values probably weren't scored, each customer should have a \"ideal score\", at least in theory. So we can't give them score 0 right away. Rather, let's see the distribution of all EXT SCOREs and impute case by case."
   ]
  },
  {
   "cell_type": "code",
   "execution_count": 38,
   "metadata": {
    "_uuid": "7428090b9ad0214026116757c46b5da6a93ac9d4",
    "collapsed": true,
    "trusted": true
   },
   "outputs": [],
   "source": [
    "sns.kdeplot(app_train.EXT_SOURCE_1);\n",
    "sns.kdeplot(app_train.EXT_SOURCE_2);\n",
    "sns.kdeplot(app_train.EXT_SOURCE_3);"
   ]
  },
  {
   "cell_type": "markdown",
   "metadata": {
    "_uuid": "10b7baef066e48674be18013fe7b76017fca42d8"
   },
   "source": [
    "Source 1 has too much missing values, so imputation could potentially bias this variable. I prefer not to use it at all unless the algorithm can deal with null values by itself, like LightGBM. Source 2 has a smaller number of nulls and maybe using a ML algorithm would be the best shot to impute it, as imputing it with either mean or median values create a huge deformation on the distribution. For this version, I'll just remove it and mabe come back at a later time to deal with it properly. \n",
    "At last, Source 3 has just a small percentage of missing values and imputing it with the median value seems to be the best."
   ]
  },
  {
   "cell_type": "code",
   "execution_count": 8,
   "metadata": {
    "_uuid": "82d48f1b59cd11f47f37e9c02b75cc6e788b591d",
    "trusted": true
   },
   "outputs": [],
   "source": [
    "app_train = app_train.drop(columns= [\"EXT_SOURCE_1\"])\n",
    "app_train = app_train.drop(columns= [\"EXT_SOURCE_3\"])\n",
    "app_train.loc[:,\"EXT_SOURCE_2\"] = app_train.loc[:,\"EXT_SOURCE_2\"].fillna(app_train.EXT_SOURCE_2.median())\n",
    "# app_train.loc[:,\"EXT_SOURCE_3\"] = app_train.loc[:,\"EXT_SOURCE_3\"].fillna(app_train.EXT_SOURCE_3.mode()[0])\n",
    "null_values_apptr = app_train.isnull().sum()\n",
    "null_values_apptr = null_values_apptr[null_values_apptr != 0].sort_values(ascending = False).reset_index() #only show rows with null values\n",
    "null_values_apptr.columns = [\"variable\", \"n_missing\"]\n",
    "null_values_apptr"
   ]
  },
  {
   "cell_type": "code",
   "execution_count": 10,
   "metadata": {
    "_uuid": "dd1075dc33736846dc049efd1311bcbf534c8309",
    "collapsed": true,
    "trusted": true
   },
   "outputs": [],
   "source": [
    "sns.kdeplot(app_train.EXT_SOURCE_2);\n",
    "# sns.kdeplot(app_train.EXT_SOURCE_3);"
   ]
  },
  {
   "cell_type": "markdown",
   "metadata": {
    "_uuid": "9f2f9b90ab39645716136fc30ac31cf169161dbd"
   },
   "source": [
    "The distribution remains almost the same, so it seems the median was a good choice indeed.\n",
    "\n",
    "## OCCUPATION_TYPE\n",
    "_____\n",
    "This variable will be dealt a bit differently than the others. Inspired by [ISR's kernel](https://www.kaggle.com/isr1512/home-credit-expanded-detailed-data-analysis), I'll use the education level of each person with a missing value in Occupation."
   ]
  },
  {
   "cell_type": "code",
   "execution_count": 9,
   "metadata": {
    "_uuid": "1cbc3ad44e7c850bca620b0407e6a2444d0cabac",
    "trusted": true
   },
   "outputs": [],
   "source": [
    "app_train.NAME_EDUCATION_TYPE.unique()\n",
    "sns.heatmap(pd.crosstab(app_train.OCCUPATION_TYPE, app_train.NAME_EDUCATION_TYPE), cmap=\"Blues\");"
   ]
  },
  {
   "cell_type": "code",
   "execution_count": 11,
   "metadata": {
    "_uuid": "48121efc275a04e5e9a89f1e38035528e1531c30",
    "collapsed": true,
    "trusted": true
   },
   "outputs": [],
   "source": [
    "for education in app_train.NAME_EDUCATION_TYPE.unique():\n",
    "    mode_to_impute = app_train[app_train.NAME_EDUCATION_TYPE == education].OCCUPATION_TYPE.mode()[0]\n",
    "    app_train.loc[app_train.NAME_EDUCATION_TYPE == education, \"OCCUPATION_TYPE\"] = app_train.loc[app_train.NAME_EDUCATION_TYPE == education, \"OCCUPATION_TYPE\"].fillna(mode_to_impute)"
   ]
  },
  {
   "cell_type": "code",
   "execution_count": 12,
   "metadata": {
    "_uuid": "91ed89c7f24f55f7a88c07ae0e0142f9d787db0b",
    "scrolled": true,
    "trusted": true
   },
   "outputs": [],
   "source": [
    "null_values_apptr = app_train.isnull().sum()\n",
    "null_values_apptr = null_values_apptr[null_values_apptr != 0].sort_values(ascending = False).reset_index() #only show rows with null values\n",
    "null_values_apptr.columns = [\"variable\", \"n_missing\"]\n",
    "null_values_apptr"
   ]
  },
  {
   "cell_type": "markdown",
   "metadata": {
    "_uuid": "57165761823f9bc38bf1ad7197d881fa5b27ef7a"
   },
   "source": [
    "## NAME_TYPE_SUITE\n",
    "___"
   ]
  },
  {
   "cell_type": "code",
   "execution_count": 13,
   "metadata": {
    "_uuid": "0a2b3fbd819c5303838322b8b3f60192e56b295c",
    "trusted": true
   },
   "outputs": [],
   "source": [
    "app_train.NAME_TYPE_SUITE = app_train.NAME_TYPE_SUITE.astype(\"category\")\n",
    "sns.countplot(y = app_train.NAME_TYPE_SUITE)"
   ]
  },
  {
   "cell_type": "markdown",
   "metadata": {
    "_uuid": "1def9ff058e1b7441e9fd92841afa42232476a6a"
   },
   "source": [
    "By far, most people are unaccompanied, so we will use this value to impute NAME_TYPE_SUITE."
   ]
  },
  {
   "cell_type": "code",
   "execution_count": 14,
   "metadata": {
    "_uuid": "85aa4dc50229ce62cc8f20da4c9240cdc9841957",
    "trusted": true
   },
   "outputs": [],
   "source": [
    "app_train.NAME_TYPE_SUITE = app_train.NAME_TYPE_SUITE.fillna(app_train.NAME_TYPE_SUITE.mode()[0])\n",
    "\n",
    "null_values_apptr = app_train.isnull().sum()\n",
    "null_values_apptr = null_values_apptr[null_values_apptr != 0].sort_values(ascending = False).reset_index() #only show rows with null values\n",
    "null_values_apptr.columns = [\"variable\", \"n_missing\"]\n",
    "null_values_apptr"
   ]
  },
  {
   "cell_type": "markdown",
   "metadata": {
    "_uuid": "3b9f61c3c6b9aa278fbc417ca7e1a04795a90e50"
   },
   "source": [
    "## CNT_FAM_MEMBERS"
   ]
  },
  {
   "cell_type": "code",
   "execution_count": 15,
   "metadata": {
    "_uuid": "ca1e05baf7e38f3466601ca8ddeff4d5cb628d75",
    "collapsed": true,
    "scrolled": true,
    "trusted": true
   },
   "outputs": [],
   "source": [
    "sns.countplot(app_train.CNT_FAM_MEMBERS)"
   ]
  },
  {
   "cell_type": "markdown",
   "metadata": {
    "_uuid": "bd02c40c1e426723c33938eb586820f0667a0a23"
   },
   "source": [
    "There are clearly more clients with two people in the family. Therefore I will  use this value to replace the nulls."
   ]
  },
  {
   "cell_type": "code",
   "execution_count": 15,
   "metadata": {
    "_uuid": "a064b584029ad1875b59e07ff15567a9bcc3ff52",
    "collapsed": true,
    "trusted": true
   },
   "outputs": [],
   "source": [
    "app_train.CNT_FAM_MEMBERS = app_train.CNT_FAM_MEMBERS.fillna(app_train.CNT_FAM_MEMBERS.mode()[0])"
   ]
  },
  {
   "cell_type": "markdown",
   "metadata": {
    "_uuid": "c194dc946cd7474cc10a64bfa4d591ad050315cd"
   },
   "source": [
    "   ### DAYS_LAST_PHONE_CHANGE"
   ]
  },
  {
   "cell_type": "code",
   "execution_count": 24,
   "metadata": {
    "_uuid": "3c49dfe12bbeeaf495a673b082e9ec69f3074187",
    "collapsed": true,
    "trusted": true
   },
   "outputs": [],
   "source": [
    "sns.kdeplot(app_train.DAYS_LAST_PHONE_CHANGE)"
   ]
  },
  {
   "cell_type": "markdown",
   "metadata": {
    "_uuid": "ec57182e5ba062a496e6629a078a160da6b57a57"
   },
   "source": [
    "The distribution is somewhat skewed, so I'll make the imputation using the mode. "
   ]
  },
  {
   "cell_type": "code",
   "execution_count": 16,
   "metadata": {
    "_uuid": "c766698ad7130c3a8f785e268af39f303aa759c9",
    "collapsed": true,
    "trusted": true
   },
   "outputs": [],
   "source": [
    "app_train.DAYS_LAST_PHONE_CHANGE = app_train.DAYS_LAST_PHONE_CHANGE.fillna(app_train.DAYS_LAST_PHONE_CHANGE.mode()[0])"
   ]
  },
  {
   "cell_type": "markdown",
   "metadata": {
    "_uuid": "2f40e021d268b29d944accc639f1236a05cbe4a5"
   },
   "source": [
    "## AMT_ANNUITY"
   ]
  },
  {
   "cell_type": "code",
   "execution_count": 47,
   "metadata": {
    "_uuid": "d28dfe9462a06ea676833052a77e2af1bdf999fd",
    "collapsed": true,
    "scrolled": true,
    "trusted": true
   },
   "outputs": [],
   "source": [
    "sns.kdeplot(app_train.AMT_ANNUITY)"
   ]
  },
  {
   "cell_type": "markdown",
   "metadata": {
    "_uuid": "3d7c0fa7138300e7a18742fa18df007c44bf7eb2"
   },
   "source": [
    "The median value seems to be the best imputation value on this case, as the distribution is gratly skewed towards the left part."
   ]
  },
  {
   "cell_type": "code",
   "execution_count": 17,
   "metadata": {
    "_uuid": "ba043ebcbe6feb2e638a3c80671b3265d099603f",
    "collapsed": true,
    "trusted": true
   },
   "outputs": [],
   "source": [
    "app_train.AMT_ANNUITY = app_train.AMT_ANNUITY.fillna(app_train.AMT_ANNUITY.median())"
   ]
  },
  {
   "cell_type": "markdown",
   "metadata": {
    "_uuid": "e4ef03bd540d58267c383d0f50d0d810a36f6c5f"
   },
   "source": [
    "### AMT_GOODS_PRICE"
   ]
  },
  {
   "cell_type": "code",
   "execution_count": 49,
   "metadata": {
    "_uuid": "cb99c3df168d206cd7cac6b1f50fe7bfd865c24b",
    "collapsed": true,
    "scrolled": false,
    "trusted": true
   },
   "outputs": [],
   "source": [
    "sns.distplot(app_train.AMT_GOODS_PRICE[pd.notnull(app_train.AMT_GOODS_PRICE)])"
   ]
  },
  {
   "cell_type": "markdown",
   "metadata": {
    "_uuid": "71cc8de1963b647d799f8c63fb7c38b2c747d89c"
   },
   "source": [
    "This one is a bit tricky. There are several peaks along the distribution. Let's impute using the mode and see if the distribution is still about the same."
   ]
  },
  {
   "cell_type": "code",
   "execution_count": 18,
   "metadata": {
    "_uuid": "e49793763a12c8d3f33bbc806e659036f60e5348",
    "trusted": true
   },
   "outputs": [],
   "source": [
    "app_train.AMT_GOODS_PRICE = app_train.AMT_GOODS_PRICE.fillna(app_train.AMT_GOODS_PRICE.mode()[0])\n",
    "sns.distplot(app_train.AMT_GOODS_PRICE)"
   ]
  },
  {
   "cell_type": "markdown",
   "metadata": {
    "_uuid": "697ac1f71e4c91167139afe8a8a2927000593465"
   },
   "source": [
    "Seems to be alright, as there were just a few missing values compared to the total number. Now  we have finished our work dealing with the missing data."
   ]
  },
  {
   "cell_type": "code",
   "execution_count": 19,
   "metadata": {
    "_uuid": "e73d5d35c4db26865e95749a1989187aec4f3e32",
    "trusted": true
   },
   "outputs": [],
   "source": [
    "app_train.NAME_TYPE_SUITE = app_train.NAME_TYPE_SUITE.fillna(app_train.NAME_TYPE_SUITE.mode()[0])\n",
    "\n",
    "null_values_apptr = app_train.isnull().sum()\n",
    "null_values_apptr = null_values_apptr[null_values_apptr != 0].sort_values(ascending = False).reset_index() #only show rows with null values\n",
    "null_values_apptr.columns = [\"variable\", \"n_missing\"]\n",
    "null_values_apptr"
   ]
  },
  {
   "cell_type": "markdown",
   "metadata": {
    "_uuid": "8bda111cf2381c96d31926a47184ed89bc9091f1"
   },
   "source": [
    "## Principal Component Analysis\n",
    "____\n",
    "Now that our data doesn't have missing values, I'm going to use a PCA to reduce the number of variables we have to deal with."
   ]
  },
  {
   "cell_type": "code",
   "execution_count": 20,
   "metadata": {
    "_uuid": "fa77bd666b2b234042dee176c853a367edabea6e",
    "collapsed": true,
    "scrolled": true,
    "trusted": true
   },
   "outputs": [],
   "source": [
    "######################################\n",
    "############### PCA ##################\n",
    "######################################\n",
    "\n",
    "from sklearn.decomposition import PCA\n",
    "from sklearn.preprocessing import StandardScaler\n",
    "df = app_train.copy()\n",
    "df = df.drop(columns = [\"SK_ID_CURR\", \"TARGET\"])\n",
    "df = pd.get_dummies(df)\n",
    "\n",
    "#scaling the components\n",
    "ss = StandardScaler()\n",
    "df = ss.fit_transform(df)\n",
    "\n",
    "pca = PCA(random_state = 0)\n",
    "df_decomposed = pca.fit(df)\n",
    "df = pca.transform(df)"
   ]
  },
  {
   "cell_type": "code",
   "execution_count": 21,
   "metadata": {
    "_uuid": "ba943e01f1091774b337d7bdb50cc7737cb84750",
    "collapsed": true,
    "trusted": true
   },
   "outputs": [],
   "source": [
    "cumulative_var = []\n",
    "cumul_var = 0\n",
    "for exvar in df_decomposed.explained_variance_ratio_:\n",
    "    cumul_var = exvar + cumul_var\n",
    "    cumulative_var.append(cumul_var)"
   ]
  },
  {
   "cell_type": "code",
   "execution_count": 23,
   "metadata": {
    "_uuid": "057276182d10c3fdeebb5f57d237cf3f4cf27095",
    "scrolled": true,
    "trusted": true
   },
   "outputs": [],
   "source": [
    "plt.plot(cumulative_var, label = \"cumulative explained variance\")\n",
    "plt.plot(df_decomposed.explained_variance_ratio_, label = \"individual explained variance\")\n",
    "plt.legend();"
   ]
  },
  {
   "cell_type": "markdown",
   "metadata": {
    "_uuid": "3003dd287bb8ac04d42f8d6acadbdb7bcf99492d"
   },
   "source": [
    "Looking at this plot, we can see that if we want almost 100% of variance explained, we need about 170 PCs. We can further reduce this number if only around 80% of explained variance is wanted. In this case we would need \"only\" 130 PCs.\n",
    "\n",
    "Now the next step is to train some models and see how they perform when compared to the LB scores. There is a lot of room for improvement by feature engineering and imputation using ML algorithms, so feel free to take this as a basic pipeline to make your own imputation/PCA analysis or just use it as it is. Hope y'all enjoy it :) "
   ]
  },
  {
   "cell_type": "markdown",
   "metadata": {
    "_uuid": "fcb58344069ff2e952f175c4d6b97ed75bfee1d9"
   },
   "source": [
    "Recuperado de: https://www.kaggle.com/code/hrmello/application-train-imputation-guide-and-pca"
   ]
  }
 ],
 "metadata": {
  "kernelspec": {
   "display_name": "Python 3",
   "language": "python",
   "name": "python3"
  },
  "language_info": {
   "codemirror_mode": {
    "name": "ipython",
    "version": 3
   },
   "file_extension": ".py",
   "mimetype": "text/x-python",
   "name": "python",
   "nbconvert_exporter": "python",
   "pygments_lexer": "ipython3",
   "version": "3.6.5"
  }
 },
 "nbformat": 4,
 "nbformat_minor": 1
}
