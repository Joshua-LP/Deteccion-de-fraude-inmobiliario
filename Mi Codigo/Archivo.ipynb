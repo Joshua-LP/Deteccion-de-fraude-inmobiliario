{
 "cells": [
  {
   "cell_type": "markdown",
   "id": "222de00f",
   "metadata": {},
   "source": [
    "**Actividad - Autoencoder para detección de fraude**"
   ]
  },
  {
   "cell_type": "code",
   "execution_count": 1,
   "id": "4db8b212",
   "metadata": {},
   "outputs": [
    {
     "name": "stdout",
     "output_type": "stream",
     "text": [
      "\n",
      "Archivo cargado correctamente: 307511 filas y 122 columnas\n",
      "Tasa de incumplimiento: 8.07%\n",
      "Casos normales: 282686 | Casos incumplidos: 24825\n"
     ]
    }
   ],
   "source": [
    "import os\n",
    "import pandas as pd\n",
    "import numpy as np\n",
    "import matplotlib.pyplot as plt\n",
    "import seaborn as sns\n",
    "from sklearn.preprocessing import RobustScaler\n",
    "from sklearn.model_selection import train_test_split\n",
    "from sklearn.metrics import (\n",
    "    classification_report, confusion_matrix, \n",
    "    roc_auc_score, roc_curve, precision_recall_curve,\n",
    "    average_precision_score\n",
    ")\n",
    "from sklearn.manifold import TSNE\n",
    "from sklearn.decomposition import PCA\n",
    "from keras.models import Model\n",
    "from keras.layers import Input, Dense, Dropout, BatchNormalization\n",
    "from keras.callbacks import EarlyStopping, ReduceLROnPlateau\n",
    "import warnings\n",
    "warnings.filterwarnings('ignore')\n",
    "\n",
    "if '__file__' in globals():\n",
    "    ruta_base = os.path.dirname(os.path.abspath(__file__))\n",
    "else:\n",
    "    ruta_base = os.getcwd()\n",
    "\n",
    "ruta_datos = os.path.join(ruta_base, \"..\", \"data\", \"application_train.csv\")\n",
    "datos = pd.read_csv(ruta_datos)\n",
    "\n",
    "filas, columnas = datos.shape\n",
    "tasa_incumplimiento = datos[\"TARGET\"].mean() * 100\n",
    "casos_normales = (datos[\"TARGET\"] == 0).sum()\n",
    "casos_incumplidos = (datos[\"TARGET\"] == 1).sum()\n",
    "\n",
    "print(f\"\\nArchivo cargado correctamente: {filas} filas y {columnas} columnas\")\n",
    "print(f\"Tasa de incumplimiento: {tasa_incumplimiento:.2f}%\")\n",
    "print(f\"Casos normales: {casos_normales} | Casos incumplidos: {casos_incumplidos}\")\n",
    "\n"
   ]
  }
 ],
 "metadata": {
  "kernelspec": {
   "display_name": "Python (.venv)",
   "language": "python",
   "name": ".venv"
  },
  "language_info": {
   "codemirror_mode": {
    "name": "ipython",
    "version": 3
   },
   "file_extension": ".py",
   "mimetype": "text/x-python",
   "name": "python",
   "nbconvert_exporter": "python",
   "pygments_lexer": "ipython3",
   "version": "3.9.2"
  }
 },
 "nbformat": 4,
 "nbformat_minor": 5
}
