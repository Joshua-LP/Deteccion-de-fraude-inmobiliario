{
 "cells": [
  {
   "cell_type": "markdown",
   "id": "222de00f",
   "metadata": {},
   "source": [
    "**Actividad - Autoencoder para detección de fraude**"
   ]
  },
  {
   "cell_type": "code",
   "execution_count": 5,
   "id": "4db8b212",
   "metadata": {},
   "outputs": [
    {
     "name": "stdout",
     "output_type": "stream",
     "text": [
      "\n",
      "Archivo cargado correctamente: 307511 filas y 122 columnas\n",
      "Tasa de incumplimiento: 8.07%\n",
      "Casos normales: 282686 | Casos incumplidos: 24825\n"
     ]
    }
   ],
   "source": [
    "import os\n",
    "import pandas as pd\n",
    "import numpy as np\n",
    "import matplotlib.pyplot as plt\n",
    "import seaborn as sns\n",
    "from sklearn.preprocessing import RobustScaler\n",
    "from sklearn.model_selection import train_test_split\n",
    "from sklearn.metrics import (\n",
    "    classification_report, confusion_matrix, \n",
    "    roc_auc_score, roc_curve, precision_recall_curve,\n",
    "    average_precision_score\n",
    ")\n",
    "from sklearn.manifold import TSNE\n",
    "from sklearn.decomposition import PCA\n",
    "from keras.models import Model\n",
    "from keras.layers import Input, Dense, Dropout, BatchNormalization\n",
    "from keras.callbacks import EarlyStopping, ReduceLROnPlateau\n",
    "import warnings\n",
    "warnings.filterwarnings('ignore')\n",
    "\n",
    "if '__file__' in globals():\n",
    "    ruta_base = os.path.dirname(os.path.abspath(__file__))\n",
    "else:\n",
    "    ruta_base = os.getcwd()\n",
    "\n",
    "ruta_datos = os.path.join(ruta_base, \"..\", \"data\", \"application_train.csv\")\n",
    "datos = pd.read_csv(ruta_datos)\n",
    "\n",
    "filas, columnas = datos.shape\n",
    "tasa_incumplimiento = datos[\"TARGET\"].mean() * 100\n",
    "casos_normales = (datos[\"TARGET\"] == 0).sum()\n",
    "casos_incumplidos = (datos[\"TARGET\"] == 1).sum()\n",
    "\n",
    "print(f\"\\nArchivo cargado correctamente: {filas} filas y {columnas} columnas\")\n",
    "print(f\"Tasa de incumplimiento: {tasa_incumplimiento:.2f}%\")\n",
    "print(f\"Casos normales: {casos_normales} | Casos incumplidos: {casos_incumplidos}\")\n",
    "\n"
   ]
  },
  {
   "cell_type": "code",
   "execution_count": 9,
   "id": "68a5830c",
   "metadata": {},
   "outputs": [
    {
     "name": "stdout",
     "output_type": "stream",
     "text": [
      "Total de variables creadas: 20\n",
      "Inconsistencias detectadas: 14180\n"
     ]
    }
   ],
   "source": [
    "# SELECCIÓN DE VARIABLES Y CREACIÓN DE ATRIBUTOS DERIVADOS\n",
    "# Variables de tiempo (convertir días a años)\n",
    "datos['EDAD'] = -datos['DAYS_BIRTH'] / 365\n",
    "datos['AÑOS_EMPLEADO'] = -datos['DAYS_EMPLOYED'] / 365\n",
    "datos['AÑOS_EMPLEADO'] = datos['AÑOS_EMPLEADO'].replace(1000.67, np.nan)\n",
    "\n",
    "# Ratios financieros básicos\n",
    "datos['RATIO_CREDITO_INGRESO'] = datos['AMT_CREDIT'] / datos['AMT_INCOME_TOTAL']\n",
    "datos['RATIO_ANUALIDAD_INGRESO'] = datos['AMT_ANNUITY'] / datos['AMT_INCOME_TOTAL']\n",
    "datos['INGRESO_PER_CAPITA'] = datos['AMT_INCOME_TOTAL'] / (datos['CNT_FAM_MEMBERS'] + 1)\n",
    "\n",
    "# Detectar inconsistencias sospechosas\n",
    "datos['INCONSISTENCIA_SCORE'] = 0\n",
    "mask1 = (datos['EXT_SOURCE_2'] < 0.3) & (datos['AMT_INCOME_TOTAL'] > datos['AMT_INCOME_TOTAL'].quantile(0.75))\n",
    "datos.loc[mask1, 'INCONSISTENCIA_SCORE'] = 1\n",
    "\n",
    "datos['INCONSISTENCIA_FAMILIA'] = 0\n",
    "mask2 = (datos['CNT_FAM_MEMBERS'] >= 4) & (datos['AMT_INCOME_TOTAL'] < datos['AMT_INCOME_TOTAL'].quantile(0.25))\n",
    "datos.loc[mask2, 'INCONSISTENCIA_FAMILIA'] = 1\n",
    "\n",
    "datos['TOTAL_INCONSISTENCIAS'] = datos['INCONSISTENCIA_SCORE'] + datos['INCONSISTENCIA_FAMILIA']\n",
    "\n",
    "# Variables de círculo social\n",
    "datos['DEFAULTS_SOCIALES'] = (datos['DEF_30_CNT_SOCIAL_CIRCLE'].fillna(0) + \n",
    "                               datos['DEF_60_CNT_SOCIAL_CIRCLE'].fillna(0))\n",
    "datos['TIENE_CIRCULO_RIESGOSO'] = (datos['DEFAULTS_SOCIALES'] > 0).astype(int)\n",
    "\n",
    "# Flags de riesgo\n",
    "datos['SOBREENDEUDAMIENTO'] = (datos['RATIO_CREDITO_INGRESO'] > 8).astype(int)\n",
    "datos['JOVEN_CREDITO_ALTO'] = ((datos['EDAD'] < 25) & (datos['AMT_CREDIT'] > 500000)).astype(int)\n",
    "\n",
    "# Seleccionar variables finales\n",
    "variables_seleccionadas = [\n",
    "    'AMT_INCOME_TOTAL', 'AMT_CREDIT', 'AMT_ANNUITY',\n",
    "    'RATIO_CREDITO_INGRESO', 'RATIO_ANUALIDAD_INGRESO', 'INGRESO_PER_CAPITA',\n",
    "    'EXT_SOURCE_2', 'EXT_SOURCE_3',\n",
    "    'EDAD', 'AÑOS_EMPLEADO', 'CNT_CHILDREN', 'CNT_FAM_MEMBERS',\n",
    "    'REGION_RATING_CLIENT', 'DAYS_REGISTRATION',\n",
    "    'TOTAL_INCONSISTENCIAS', 'INCONSISTENCIA_SCORE', 'INCONSISTENCIA_FAMILIA',\n",
    "    'TIENE_CIRCULO_RIESGOSO', 'SOBREENDEUDAMIENTO', 'JOVEN_CREDITO_ALTO'\n",
    "]\n",
    "\n",
    "print(f\"Total de variables creadas: {len(variables_seleccionadas)}\")\n",
    "print(f\"Inconsistencias detectadas: {datos['TOTAL_INCONSISTENCIAS'].sum()}\")"
   ]
  }
 ],
 "metadata": {
  "kernelspec": {
   "display_name": "Python (.venv)",
   "language": "python",
   "name": ".venv"
  },
  "language_info": {
   "codemirror_mode": {
    "name": "ipython",
    "version": 3
   },
   "file_extension": ".py",
   "mimetype": "text/x-python",
   "name": "python",
   "nbconvert_exporter": "python",
   "pygments_lexer": "ipython3",
   "version": "3.9.2"
  }
 },
 "nbformat": 4,
 "nbformat_minor": 5
}
